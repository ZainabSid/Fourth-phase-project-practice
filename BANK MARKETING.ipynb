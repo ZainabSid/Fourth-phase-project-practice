{
 "cells": [
  {
   "cell_type": "code",
   "execution_count": 1,
   "id": "77c769c6",
   "metadata": {},
   "outputs": [
    {
     "name": "stdout",
     "output_type": "stream",
     "text": [
      "no     27932\n",
      "yes     3715\n",
      "Name: subscribed, dtype: int64\n",
      "Logistic Regression Accuracy: 0.8993680884676145\n",
      "Decision Tree Accuracy: 0.9042654028436019\n"
     ]
    }
   ],
   "source": [
    "import numpy as np\n",
    "import pandas as pd\n",
    "import matplotlib.pyplot as plt\n",
    "import seaborn as sns\n",
    "from sklearn.model_selection import train_test_split\n",
    "from sklearn.linear_model import LogisticRegression\n",
    "from sklearn.tree import DecisionTreeClassifier\n",
    "from sklearn.metrics import accuracy_score\n",
    "import warnings\n",
    "\n",
    "# Loading the data from the link for train and test data\n",
    "train_url = \"https://raw.githubusercontent.com/FlipRoboTechnologies/ML-Datasets/main/Bank%20Marketing/termdeposit_train.csv\"\n",
    "test_url = \"https://github.com/FlipRoboTechnologies/ML-Datasets/blob/main/Bank%20Marketing/termdeposit_test.csv?raw=true\"\n",
    "\n",
    "train = pd.read_csv(train_url)\n",
    "test = pd.read_csv(test_url)\n",
    "\n",
    "# exploration of data\n",
    "print(train['subscribed'].value_counts())\n",
    "\n",
    "# Preprocessing of the data\n",
    "train['subscribed'] = train['subscribed'].map({'no': 0, 'yes': 1})\n",
    "\n",
    "# One-hot encoding for categorical variables\n",
    "train = pd.get_dummies(train)\n",
    "\n",
    "# Model training and evaluation\n",
    "X = train.drop(columns=['subscribed'])\n",
    "y = train['subscribed']\n",
    "\n",
    "X_train, X_val, y_train, y_val = train_test_split(X, y, test_size=0.2, random_state=12)\n",
    "\n",
    "# Suppress ConvergenceWarning\n",
    "warnings.filterwarnings(\"ignore\", category=FutureWarning)\n",
    "\n",
    "# Logistic Regression with increased max_iter\n",
    "lreg = LogisticRegression(max_iter=1000)\n",
    "lreg.fit(X_train, y_train)\n",
    "pred_lreg = lreg.predict(X_val)\n",
    "accuracy_lreg = accuracy_score(y_val, pred_lreg)\n",
    "print(\"Logistic Regression Accuracy:\", accuracy_lreg)\n",
    "\n",
    "# Decision Tree\n",
    "clf = DecisionTreeClassifier(max_depth=4, random_state=0)\n",
    "clf.fit(X_train, y_train)\n",
    "pred_clf = clf.predict(X_val)\n",
    "accuracy_clf = accuracy_score(y_val, pred_clf)\n",
    "print(\"Decision Tree Accuracy:\", accuracy_clf)\n",
    "\n",
    "# Making predictions on the test set\n",
    "test = pd.get_dummies(test)\n",
    "test_pred = clf.predict(test)\n",
    "\n",
    "# Converting predictions to 'yes' or 'no'\n",
    "test['subscribed'] = np.where(test_pred == 1, 'yes', 'no')"
   ]
  },
  {
   "cell_type": "code",
   "execution_count": null,
   "id": "5414921c",
   "metadata": {},
   "outputs": [],
   "source": []
  }
 ],
 "metadata": {
  "kernelspec": {
   "display_name": "Python 3 (ipykernel)",
   "language": "python",
   "name": "python3"
  },
  "language_info": {
   "codemirror_mode": {
    "name": "ipython",
    "version": 3
   },
   "file_extension": ".py",
   "mimetype": "text/x-python",
   "name": "python",
   "nbconvert_exporter": "python",
   "pygments_lexer": "ipython3",
   "version": "3.11.4"
  }
 },
 "nbformat": 4,
 "nbformat_minor": 5
}
